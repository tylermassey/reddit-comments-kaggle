{
 "cells": [
  {
   "cell_type": "code",
   "execution_count": 9,
   "metadata": {
    "collapsed": true
   },
   "outputs": [],
   "source": [
    "import matplotlib.pyplot as plt\n",
    "from matplotlib.ticker import FuncFormatter\n",
    "import numpy as np"
   ]
  },
  {
   "cell_type": "code",
   "execution_count": 10,
   "metadata": {
    "collapsed": false
   },
   "outputs": [],
   "source": [
    "x_size = [10000, 50000, 100000, 200000, 500000, 2500000]\n",
    "\n",
    "formatter = FuncFormatter(lambda x, p: format(int(x), ','))\n",
    "fig, ax = plt.subplots()\n",
    "ax.xaxis.set_major_formatter(formatter)\n",
    "\n",
    "\n",
    "\n",
    "#Naive Bayes\n",
    "plt.plot(x_size, [.639000, .617900, .611300, .614650, .604760, .6024], marker = 'o')\n",
    "#SVM\n",
    "plt.plot(x_size, [.73, .67, .64, .64, .62, .623], marker = 'o')\n",
    "#Random Forest\n",
    "plt.plot(x_size, [0.665, 0.6263, 0.5591, 0.55763, 0.52873, np.NAN], marker = 'o')\n",
    "#kNN\n",
    "plt.plot(x_size, [.4995, .3984, np.NaN, np.NaN, np.NaN, np.NaN], marker = 'o')\n",
    "\n",
    "plt.legend(['Naive Bayes', 'SVM', 'Random Forest', 'kNN'], loc='upper right')\n",
    "plt.xlabel('Number of Comments')\n",
    "plt.ylabel('Accuracy')\n",
    "plt.title('Models\\' Performance')\n",
    "\n",
    "\n",
    "plt.savefig(\"result.png\", format='png')"
   ]
  },
  {
   "cell_type": "code",
   "execution_count": null,
   "metadata": {
    "collapsed": true
   },
   "outputs": [],
   "source": []
  }
 ],
 "metadata": {
  "kernelspec": {
   "display_name": "Python 2",
   "language": "python",
   "name": "python2"
  },
  "language_info": {
   "codemirror_mode": {
    "name": "ipython",
    "version": 2
   },
   "file_extension": ".py",
   "mimetype": "text/x-python",
   "name": "python",
   "nbconvert_exporter": "python",
   "pygments_lexer": "ipython2",
   "version": "2.7.10"
  }
 },
 "nbformat": 4,
 "nbformat_minor": 0
}
