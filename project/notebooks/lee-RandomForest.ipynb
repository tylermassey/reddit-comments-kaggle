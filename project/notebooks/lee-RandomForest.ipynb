{
 "cells": [
  {
   "cell_type": "code",
   "execution_count": 1,
   "metadata": {
    "collapsed": false
   },
   "outputs": [],
   "source": [
    "import numpy as np\n",
    "import pandas as pd\n",
    "import Bags_Of_Words as bw\n",
    "from sklearn.ensemble import RandomForestClassifier\n",
    "from sklearn import metrics\n",
    "from matplotlib import pyplot as plt"
   ]
  },
  {
   "cell_type": "code",
   "execution_count": 2,
   "metadata": {
    "collapsed": false
   },
   "outputs": [],
   "source": [
    "size_list = [1000, 5000, 10000, 20000, 50000]\n",
    "accuracy = []\n",
    "\n",
    "for size in size_list :\n",
    "    train_fp = \"../data/train_set_cap\" + str(size) + \".csv\"\n",
    "    test_fp = \"../data/test_set_cap\" + str(size) + \".csv\"\n",
    "    BOW = bw.Bags_Of_Words(train_fp, test_fp, False)\n",
    "    \n",
    "    df = pd.read_csv(train_fp)\n",
    "    clf = RandomForestClassifier(n_estimators = 100, warm_start = True)\n",
    "    df_test = pd.read_csv(test_fp)\n",
    "    \n",
    "    clf = clf.fit(BOW['train'], df.subreddit_index)\n",
    "    predicted = clf.predict(BOW['test'])\n",
    "    \n",
    "    accuracy.append(np.mean(predicted == df_test.subreddit_index))"
   ]
  },
  {
   "cell_type": "markdown",
   "metadata": {
    "collapsed": false
   },
   "source": [
    "Normal without any parameters\n",
    "accuracy\n",
    "[0.61550000000000005,\n",
    " 0.56140000000000001,\n",
    " 0.50965000000000005,\n",
    " 0.5131,\n",
    " 0.47943000000000002]"
   ]
  },
  {
   "cell_type": "markdown",
   "metadata": {
    "collapsed": true
   },
   "source": [
    "100 trees with warm_start \n",
    "[0.64349999999999996,\n",
    " 0.60460000000000003,\n",
    " 0.55910000000000004,\n",
    " 0.55762500000000004,\n",
    " 0.52873000000000003]"
   ]
  },
  {
   "cell_type": "code",
   "execution_count": null,
   "metadata": {
    "collapsed": true
   },
   "outputs": [],
   "source": []
  }
 ],
 "metadata": {
  "kernelspec": {
   "display_name": "Python 2",
   "language": "python",
   "name": "python2"
  },
  "language_info": {
   "codemirror_mode": {
    "name": "ipython",
    "version": 2
   },
   "file_extension": ".py",
   "mimetype": "text/x-python",
   "name": "python",
   "nbconvert_exporter": "python",
   "pygments_lexer": "ipython2",
   "version": "2.7.10"
  }
 },
 "nbformat": 4,
 "nbformat_minor": 0
}
