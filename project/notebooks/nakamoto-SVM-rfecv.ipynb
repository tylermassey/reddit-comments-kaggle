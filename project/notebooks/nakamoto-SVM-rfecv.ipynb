{
 "cells": [
  {
   "cell_type": "code",
   "execution_count": 7,
   "metadata": {
    "collapsed": true
   },
   "outputs": [],
   "source": [
    "import numpy as np\n",
    "import pandas as pd\n",
    "import Bags_Of_Words as bw\n",
    "from sklearn.svm import LinearSVC\n",
    "from sklearn import metrics\n",
    "from sklearn.cross_validation import StratifiedKFold\n",
    "from sklearn.feature_selection import RFECV\n",
    "from sklearn.feature_selection import SelectKBest, chi2"
   ]
  },
  {
   "cell_type": "code",
   "execution_count": 17,
   "metadata": {
    "collapsed": false
   },
   "outputs": [
    {
     "name": "stdout",
     "output_type": "stream",
     "text": [
      "(20000, 45661)\n",
      "(80000, 45661)\n"
     ]
    }
   ],
   "source": [
    "train_fp = \"../data/train_set10000.csv\"\n",
    "test_fp = \"../data/test_set10000.csv\"\n",
    "\n",
    "BOW = bw.Bags_Of_Words(train_fp, test_fp, True)\n",
    "print BOW['test'].shape\n",
    "print BOW['train'].shape"
   ]
  },
  {
   "cell_type": "code",
   "execution_count": 18,
   "metadata": {
    "collapsed": false
   },
   "outputs": [],
   "source": [
    "df = pd.read_csv(train_fp)"
   ]
  },
  {
   "cell_type": "code",
   "execution_count": 13,
   "metadata": {
    "collapsed": false
   },
   "outputs": [
    {
     "name": "stdout",
     "output_type": "stream",
     "text": [
      "Optimal number of features : 21120\n"
     ]
    }
   ],
   "source": [
    "# Create the RFE object and compute a cross-validated score.\n",
    "svc = LinearSVC()\n",
    "# The \"accuracy\" scoring is proportional to the number of correct\n",
    "# classifications\n",
    "rfecv = RFECV(estimator=svc, step=1, cv=StratifiedKFold(df.subreddit_index, 2),\n",
    "              scoring='accuracy')\n",
    "rfecv.fit(BOW['train'], df.subreddit_index)\n",
    "\n",
    "print(\"Optimal number of features : %d\" % rfecv.n_features_)"
   ]
  },
  {
   "cell_type": "code",
   "execution_count": 15,
   "metadata": {
    "collapsed": false
   },
   "outputs": [],
   "source": [
    "ch2 = SelectKBest(chi2, k=21120)\n",
    "train = ch2.fit_transform(BOW['train'], df.subreddit_index)\n",
    "test = ch2.transform(BOW['test'])\n",
    "\n",
    "clf = LinearSVC().fit(train, df.subreddit_index)\n",
    "predicted = clf.predict(test)"
   ]
  },
  {
   "cell_type": "code",
   "execution_count": 16,
   "metadata": {
    "collapsed": false
   },
   "outputs": [
    {
     "name": "stdout",
     "output_type": "stream",
     "text": [
      "0.6606\n"
     ]
    }
   ],
   "source": [
    "df_test = pd.read_csv(test_fp)\n",
    "\n",
    "print np.mean(predicted == df_test.subreddit_index)"
   ]
  },
  {
   "cell_type": "markdown",
   "metadata": {},
   "source": [
    "## Results\n",
    "\n",
    "- 1,000  - 71.0%  Optimal # of Features: 7520\n",
    "- 5,000  - 66.06% Optimal # of Features: 21120\n",
    "- 10,000 - \n",
    "- 20,000 - \n",
    "- 50,000 - "
   ]
  },
  {
   "cell_type": "markdown",
   "metadata": {
    "collapsed": true
   },
   "source": [
    "## Results - Default \n",
    "Default parameters => penalty='l2', loss='squared_hinge', dual=True, tol=0.0001, C=1.0, multi_class='ovr', fit_intercept=True, intercept_scaling=1, class_weight=None, verbose=0, random_state=None, max_iter=1000\n",
    "- 1,000  - 72.3%\n",
    "- 5,000  - 66.28%\n",
    "- 10,000 - 64.005%\n",
    "- 20,000 - 64.4925%\n",
    "- 50,000 - 62.307%"
   ]
  },
  {
   "cell_type": "code",
   "execution_count": null,
   "metadata": {
    "collapsed": true
   },
   "outputs": [],
   "source": []
  }
 ],
 "metadata": {
  "kernelspec": {
   "display_name": "Python 2",
   "language": "python",
   "name": "python2"
  },
  "language_info": {
   "codemirror_mode": {
    "name": "ipython",
    "version": 2
   },
   "file_extension": ".py",
   "mimetype": "text/x-python",
   "name": "python",
   "nbconvert_exporter": "python",
   "pygments_lexer": "ipython2",
   "version": "2.7.10"
  }
 },
 "nbformat": 4,
 "nbformat_minor": 0
}
