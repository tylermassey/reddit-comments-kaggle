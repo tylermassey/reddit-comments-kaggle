{
 "cells": [
  {
   "cell_type": "code",
   "execution_count": 12,
   "metadata": {
    "collapsed": true
   },
   "outputs": [],
   "source": [
    "import numpy as np\n",
    "import pandas as pd\n",
    "import Bags_Of_Words as bw\n",
    "from sklearn.naive_bayes import MultinomialNB\n",
    "from sklearn import metrics"
   ]
  },
  {
   "cell_type": "code",
   "execution_count": 13,
   "metadata": {
    "collapsed": false
   },
   "outputs": [
    {
     "name": "stdout",
     "output_type": "stream",
     "text": [
      "(452806, 353674)\n",
      "(1811221, 353674)\n"
     ]
    }
   ],
   "source": [
    "train_fp = \"../data/train_set.csv\"\n",
    "test_fp = \"../data/test_set.csv\"\n",
    "\n",
    "BOW = bw.Bags_Of_Words(train_fp, test_fp, True)\n",
    "print BOW['test'].shape\n",
    "print BOW['train'].shape"
   ]
  },
  {
   "cell_type": "code",
   "execution_count": 14,
   "metadata": {
    "collapsed": false
   },
   "outputs": [],
   "source": [
    "df = pd.read_csv(train_fp)\n",
    "df[\"subreddit_index\"] = df.apply(lambda row: bw.subreddit_index(row), axis=1)\n",
    "\n",
    "clf = MultinomialNB().fit(BOW['train'], df.subreddit_index)\n",
    "\n",
    "predicted = clf.predict(BOW['test'])"
   ]
  },
  {
   "cell_type": "code",
   "execution_count": 15,
   "metadata": {
    "collapsed": false
   },
   "outputs": [
    {
     "name": "stdout",
     "output_type": "stream",
     "text": [
      "0.570741112088\n"
     ]
    }
   ],
   "source": [
    "df_test = pd.read_csv(test_fp)\n",
    "df_test[\"subreddit_index\"] = df_test.apply(lambda row: bw.subreddit_index(row), axis=1)\n",
    "\n",
    "print np.mean(predicted == df_test.subreddit_index)"
   ]
  },
  {
   "cell_type": "code",
   "execution_count": 16,
   "metadata": {
    "collapsed": false
   },
   "outputs": [
    {
     "name": "stdout",
     "output_type": "stream",
     "text": [
      "             precision    recall  f1-score   support\n",
      "\n",
      "    gadgets       1.00      0.05      0.09      5067\n",
      "     sports       0.76      0.01      0.01     10243\n",
      "     gaming       0.84      0.34      0.49     72177\n",
      "       news       0.65      0.62      0.64    110100\n",
      "    history       0.82      0.00      0.00      5048\n",
      "      music       0.00      0.00      0.00         0\n",
      "      funny       0.47      0.83      0.60    149042\n",
      "     movies       0.75      0.52      0.62     75498\n",
      "       food       0.94      0.07      0.13     11108\n",
      "      books       0.91      0.06      0.11     14523\n",
      "\n",
      "avg / total       0.66      0.57      0.54    452806\n",
      "\n"
     ]
    }
   ],
   "source": [
    "subreddit_names = [\"gadgets\", \"sports\", \"gaming\", \"news\", \"history\", \"music\", \"funny\", \"movies\", \"food\", \"books\"]\n",
    "labels = [1, 2, 3, 4, 5, 6, 7, 8, 9, 10]\n",
    "\n",
    "print(metrics.classification_report(df_test.subreddit_index, predicted, labels = labels, target_names = subreddit_names))\n"
   ]
  },
  {
   "cell_type": "code",
   "execution_count": null,
   "metadata": {
    "collapsed": true
   },
   "outputs": [],
   "source": []
  },
  {
   "cell_type": "code",
   "execution_count": null,
   "metadata": {
    "collapsed": true
   },
   "outputs": [],
   "source": []
  }
 ],
 "metadata": {
  "kernelspec": {
   "display_name": "Python 2",
   "language": "python",
   "name": "python2"
  },
  "language_info": {
   "codemirror_mode": {
    "name": "ipython",
    "version": 2
   },
   "file_extension": ".py",
   "mimetype": "text/x-python",
   "name": "python",
   "nbconvert_exporter": "python",
   "pygments_lexer": "ipython2",
   "version": "2.7.10"
  }
 },
 "nbformat": 4,
 "nbformat_minor": 0
}
